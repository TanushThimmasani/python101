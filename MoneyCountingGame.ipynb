{
  "nbformat": 4,
  "nbformat_minor": 0,
  "metadata": {
    "colab": {
      "provenance": []
    },
    "kernelspec": {
      "name": "python3",
      "display_name": "Python 3"
    },
    "language_info": {
      "name": "python"
    }
  },
  "cells": [
    {
      "cell_type": "code",
      "source": [
        "a=input(\"how many pennies do you have? \") \n",
        "b=input(\"how many nickels do you have? \")\n",
        "c=input(\"how many dimes do you have? \")\n",
        "d=input(\"how many quarters do you have? \")\n",
        "a=float(a) \n",
        "b=float(b)\n",
        "c=float(c) \n",
        "d=float(d)\n",
        "B= (5*b)\n",
        "C= (10*c)\n",
        "D= (25*d)\n",
        "B= float(B)\n",
        "C= float(C)\n",
        "D= float(D)\n",
        "M=(a+B+C+D)\n",
        "if M==100:\n",
        "    print(\"Congratulations! You have won the game because your money amounts to $1.\")\n",
        "elif M<100.0: \n",
        "    print (\"Sorry, your money is equal to less than one dollar.\")\n",
        "else:\n",
        "    print (\"Sorry, your money is equal to more than one dollar.\")"
      ],
      "metadata": {
        "id": "OCQO7ctXfGBb"
      },
      "execution_count": null,
      "outputs": []
    },
    {
      "cell_type": "markdown",
      "source": [
        "Money Counting Game"
      ],
      "metadata": {
        "id": "-h55mt4ogqTS"
      }
    }
  ]
}