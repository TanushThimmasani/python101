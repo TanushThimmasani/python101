{
  "nbformat": 4,
  "nbformat_minor": 0,
  "metadata": {
    "colab": {
      "provenance": [],
      "authorship_tag": "ABX9TyM/rvyo+W+/A0TNRMDeOMgk",
      "include_colab_link": true
    },
    "kernelspec": {
      "name": "python3",
      "display_name": "Python 3"
    },
    "language_info": {
      "name": "python"
    }
  },
  "cells": [
    {
      "cell_type": "markdown",
      "metadata": {
        "id": "view-in-github",
        "colab_type": "text"
      },
      "source": [
        "<a href=\"https://colab.research.google.com/github/TanushThimmasani/python101/blob/main/Week_6_HW.ipynb\" target=\"_parent\"><img src=\"https://colab.research.google.com/assets/colab-badge.svg\" alt=\"Open In Colab\"/></a>"
      ]
    },
    {
      "cell_type": "markdown",
      "source": [
        "## Assignment 6.1"
      ],
      "metadata": {
        "id": "iahUrCX8rukT"
      }
    },
    {
      "cell_type": "code",
      "execution_count": null,
      "metadata": {
        "id": "h04JVJX3rrkF"
      },
      "outputs": [],
      "source": [
        "# Solve 4.4 (Distance Traveled problem - Page 269 -Problem 4) using the \"for and range\" statements\n",
        "speed_mph = int(input(\"how fast, in mph rounded to the nearest integer, was vehicle travelling? \"))\n",
        "time_hours = int(input(\"how long, in hours rounded to the nearest integer, did vehicle travel? \"))\n",
        "i=1\n",
        "for x in range (speed_mph, time_hours * speed_mph +1, speed_mph):\n",
        "  print (\"hour\", i,\":\", \"distance travelled in miles is\",x)\n",
        "  i=i+1"
      ]
    },
    {
      "cell_type": "markdown",
      "source": [
        "## Assignment 6.2"
      ],
      "metadata": {
        "id": "Qolbwr8fr-Up"
      }
    },
    {
      "cell_type": "code",
      "source": [
        "# Solve 4.6 (Celsius to Fahrenheit Table - Page 270 - Problem 7) Using the \"for and range\" statements.\n",
        "for degrees_C in range (0, 21):\n",
        " degrees_F = 9/5 *degrees_C +32\n",
        " print (degrees_C,\"°C\", \":\", degrees_F, \"°F\")"
      ],
      "metadata": {
        "id": "TH4VS-gZsCuF"
      },
      "execution_count": null,
      "outputs": []
    }
  ]
}