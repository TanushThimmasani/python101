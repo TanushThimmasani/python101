{
  "nbformat": 4,
  "nbformat_minor": 0,
  "metadata": {
    "colab": {
      "provenance": []
    },
    "kernelspec": {
      "name": "python3",
      "display_name": "Python 3"
    },
    "language_info": {
      "name": "python"
    }
  },
  "cells": [
    {
      "cell_type": "markdown",
      "source": [
        " Book Club Points"
      ],
      "metadata": {
        "id": "AVMCkq8Jk-vR"
      }
    },
    {
      "cell_type": "code",
      "source": [
        " a=input(\"How many books did you buy?\")\n",
        "a=int(a)\n",
        "if a<2:\n",
        "    print(\"zero points have been awarded\")\n",
        "elif (a >= 2) and (a<4):\n",
        "    print(\"five points have been awarded\")\n",
        "elif (a >= 4) and (a<6):\n",
        "    print(\"fifteen points have been awarded\")\n",
        "elif (a >= 6) and (a<8):\n",
        "    print(\"thirty points have been awarded\")\n",
        "else:\n",
        "    print(\"sixty points have been awarded\")"
      ],
      "metadata": {
        "id": "kEz7qSKQk_aE"
      },
      "execution_count": null,
      "outputs": []
    }
  ]
}