{
  "nbformat": 4,
  "nbformat_minor": 0,
  "metadata": {
    "colab": {
      "provenance": []
    },
    "kernelspec": {
      "name": "python3",
      "display_name": "Python 3"
    },
    "language_info": {
      "name": "python"
    }
  },
  "cells": [
    {
      "cell_type": "code",
      "execution_count": null,
      "metadata": {
        "id": "1pXC-_3nCESz"
      },
      "outputs": [],
      "source": [
        "speed_mph=int(input(\"What is the speed in MPH? \"))\n",
        "time_hours=int(input(\"How long have you travelled in hours? \"))\n",
        "g='y'\n",
        "while g=='y':\n",
        "    for t in range(time_hours):\n",
        "        distance = speed_mph * (t+1)        \n",
        "\n",
        "        print(t + 1,':', distance)\n",
        "                    \n",
        "\n",
        "    g = 'n'\n",
        "print('End')"
      ]
    }
  ]
}