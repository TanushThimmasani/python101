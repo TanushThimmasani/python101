{
  "nbformat": 4,
  "nbformat_minor": 0,
  "metadata": {
    "colab": {
      "provenance": []
    },
    "kernelspec": {
      "name": "python3",
      "display_name": "Python 3"
    },
    "language_info": {
      "name": "python"
    }
  },
  "cells": [
    {
      "cell_type": "markdown",
      "source": [
        "Budgeting Expenses"
      ],
      "metadata": {
        "id": "h3jTAEkE6KCj"
      }
    },
    {
      "cell_type": "code",
      "source": [
        "total_amount=0\n",
        "amount=float(input(\"How much was your expense? $\"))\n",
        "total_amount= total_amount + amount\n",
        "while(amount !=0):\n",
        "    amount = float(input(\"How much was your expense? $\"))\n",
        "    total_amount = total_amount + amount\n",
        "budget = float(input(\"Enter your monthly budget: $\"))\n",
        "expenses = total_amount\n",
        "if(budget > expenses):\n",
        "   print(\"Under budget.\")\n",
        "elif(budget == expenses):\n",
        "    print(\"On budget.\")\n",
        "else:\n",
        "   print(\"Over budget.\")"
      ],
      "metadata": {
        "id": "Fwg_V3nP6Rmq"
      },
      "execution_count": null,
      "outputs": []
    }
  ]
}