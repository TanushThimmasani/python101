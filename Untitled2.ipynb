{
  "nbformat": 4,
  "nbformat_minor": 0,
  "metadata": {
    "colab": {
      "provenance": []
    },
    "kernelspec": {
      "name": "python3",
      "display_name": "Python 3"
    },
    "language_info": {
      "name": "python"
    }
  },
  "cells": [
    {
      "cell_type": "markdown",
      "source": [],
      "metadata": {
        "id": "ocOwg__OV6We"
      }
    },
    {
      "cell_type": "code",
      "source": [
        "a=input(\"how many pennies do you have? \") \n",
        "b=input(\"how many nickels do you have? \")\n",
        "c=input(\"how many dimes do you have? \")\n",
        "d=input(\"how many quarters do you have? \")\n",
        "a=float(a) \n",
        "b=float(b)\n",
        "c=float(c) \n",
        "d=float(d)\n",
        "B= (5*b)\n",
        "C= (10*c)\n",
        "D= (25*d)\n",
        "B= float(B)\n",
        "C= float(C)\n",
        "D= float(D)\n",
        "M=(a+B+C+D)\n",
        "if M==100:\n",
        "    print(\"Congratulations! You have won the game because your money amounts to $1.\")\n",
        "elif M<100.0: \n",
        "    print (\"Sorry, your money is equal to less than one dollar.\")\n",
        "else:\n",
        "    print (\"Sorry, your money is equal to more than one dollar.\")"
      ],
      "metadata": {
        "colab": {
          "base_uri": "https://localhost:8080/"
        },
        "id": "OCQO7ctXfGBb",
        "outputId": "af6f9683-d505-4cca-8906-f105823e9bed"
      },
      "execution_count": 2,
      "outputs": [
        {
          "output_type": "stream",
          "name": "stdout",
          "text": [
            "how many pennies do you have?4\n",
            "how many nickels do you have?4\n",
            "how many dimes do you have?4\n",
            "how many quarters do you have?4\n",
            "Sorry, your money is equal to more than one dollar.\n"
          ]
        }
      ]
    }
  ]
}