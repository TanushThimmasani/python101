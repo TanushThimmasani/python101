{
  "nbformat": 4,
  "nbformat_minor": 0,
  "metadata": {
    "colab": {
      "provenance": [],
      "authorship_tag": "ABX9TyODU1lhfJogcm+ntu25g2ho",
      "include_colab_link": true
    },
    "kernelspec": {
      "name": "python3",
      "display_name": "Python 3"
    },
    "language_info": {
      "name": "python"
    }
  },
  "cells": [
    {
      "cell_type": "markdown",
      "metadata": {
        "id": "view-in-github",
        "colab_type": "text"
      },
      "source": [
        "<a href=\"https://colab.research.google.com/github/TanushThimmasani/python101/blob/main/Nested_Loop_Pattern.ipynb\" target=\"_parent\"><img src=\"https://colab.research.google.com/assets/colab-badge.svg\" alt=\"Open In Colab\"/></a>"
      ]
    },
    {
      "cell_type": "code",
      "execution_count": null,
      "metadata": {
        "id": "DY-jsviSeH_B"
      },
      "outputs": [],
      "source": [
        "for i in range(7,0,-1):\n",
        "        for j in range(0,i):\n",
        "            print(\"*\",end=\"\")\n",
        "        print()"
      ]
    }
  ]
}