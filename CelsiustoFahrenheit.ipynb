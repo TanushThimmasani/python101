{
  "nbformat": 4,
  "nbformat_minor": 0,
  "metadata": {
    "colab": {
      "provenance": []
    },
    "kernelspec": {
      "name": "python3",
      "display_name": "Python 3"
    },
    "language_info": {
      "name": "python"
    }
  },
  "cells": [
    {
      "cell_type": "code",
      "execution_count": null,
      "metadata": {
        "id": "6aDwqhJUKdlv"
      },
      "outputs": [],
      "source": [
        "x=0\n",
        "g='y'\n",
        "while g=='y':\n",
        "    for t in range (-1,20):\n",
        "        F = (9/5) * int(x) +32        \n",
        "        print('C=', x, ':', 'F=', F)\n",
        "        x=x+1\n",
        "                    \n",
        "\n",
        "    g = 'n'\n",
        "print('End')"
      ]
    }
  ]
}